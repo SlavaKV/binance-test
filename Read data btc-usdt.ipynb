{
 "cells": [
  {
   "cell_type": "markdown",
   "metadata": {},
   "source": [
    "<h1>Binance API.</h1>\n",
    "\n",
    "<h2>Connect to Binance</h2>"
   ]
  },
  {
   "cell_type": "markdown",
   "metadata": {},
   "source": [
    "Install Bbinance API wrapper library. Documentation is <a href=\"https://jkorf.github.io/Binance.Net/\">here</a>."
   ]
  },
  {
   "cell_type": "code",
   "execution_count": null,
   "metadata": {
    "dotnet_interactive": {
     "language": "csharp"
    },
    "vscode": {
     "languageId": "dotnet-interactive.csharp"
    }
   },
   "outputs": [
    {
     "data": {
      "text/html": [
       "<div><div></div><div></div><div><strong>Installed Packages</strong><ul><li><span>Binance.Net, 8.1.2</span></li></ul></div></div>"
      ]
     },
     "metadata": {},
     "output_type": "display_data"
    }
   ],
   "source": [
    "#r \"nuget:Binance.Net, 8.1.2\""
   ]
  },
  {
   "cell_type": "markdown",
   "metadata": {},
   "source": [
    "Bibance Client Authorization.\n",
    "\n",
    "To authorization on API it is possible to use `new BinanceClient(new BinanceClientOptions{ ... })`. We are going to work only with public data."
   ]
  },
  {
   "cell_type": "code",
   "execution_count": null,
   "metadata": {
    "dotnet_interactive": {
     "language": "csharp"
    },
    "vscode": {
     "languageId": "dotnet-interactive.csharp"
    }
   },
   "outputs": [],
   "source": [
    "using Binance.Net.Clients;\n",
    "\n",
    "var client = new BinanceClient();"
   ]
  },
  {
   "cell_type": "markdown",
   "metadata": {},
   "source": [
    "Get current BTC/USDT price. "
   ]
  },
  {
   "cell_type": "code",
   "execution_count": null,
   "metadata": {
    "dotnet_interactive": {
     "language": "csharp"
    },
    "vscode": {
     "languageId": "dotnet-interactive.csharp"
    }
   },
   "outputs": [
    {
     "data": {
      "text/html": [
       "<div class=\"dni-plaintext\">29097.81000000</div>"
      ]
     },
     "metadata": {},
     "output_type": "display_data"
    }
   ],
   "source": [
    "var getBtcUsdtPriceData = await client.SpotApi.ExchangeData.GetPriceAsync(\"BTCUSDT\");\n",
    "\n",
    "decimal price = 0;\n",
    "if(getBtcUsdtPriceData.Success)\n",
    "{\n",
    "    price = getBtcUsdtPriceData.Data.Price;\n",
    "}\n",
    "\n",
    "price"
   ]
  },
  {
   "cell_type": "markdown",
   "metadata": {},
   "source": [
    "Connection works! We can see last BTC price.\n",
    "\n",
    "Next step is to take some historical data."
   ]
  },
  {
   "cell_type": "markdown",
   "metadata": {},
   "source": [
    "<h2>Simple reading 5 mins candlestick BTC/USDT<h2>"
   ]
  },
  {
   "cell_type": "markdown",
   "metadata": {},
   "source": [
    "Each record in the table is one candle. In our case 5 mins candle."
   ]
  },
  {
   "cell_type": "code",
   "execution_count": null,
   "metadata": {
    "dotnet_interactive": {
     "language": "csharp"
    },
    "vscode": {
     "languageId": "dotnet-interactive.csharp"
    }
   },
   "outputs": [],
   "source": [
    "using Binance.Net.Enums; // KlineInterval is there\n",
    "\n",
    "var getBtcUsdtCandlesticks = await client.SpotApi.ExchangeData.GetKlinesAsync(\"BTCUSDT\", KlineInterval.FiveMinutes);\n",
    "\n",
    "IEnumerable candles;\n",
    "if (getBtcUsdtCandlesticks.Success)\n",
    "{\n",
    "    candles = getBtcUsdtCandlesticks.Data;\n",
    "}"
   ]
  },
  {
   "cell_type": "markdown",
   "metadata": {},
   "source": [
    "Data visualization. Install  packege"
   ]
  },
  {
   "cell_type": "code",
   "execution_count": null,
   "metadata": {
    "dotnet_interactive": {
     "language": "csharp"
    },
    "vscode": {
     "languageId": "dotnet-interactive.csharp"
    }
   },
   "outputs": [
    {
     "data": {
      "text/html": [
       "<div><div></div><div></div><div><strong>Installed Packages</strong><ul><li><span>XPlot.Plotly, 4.0.6</span></li></ul></div></div>"
      ]
     },
     "metadata": {},
     "output_type": "display_data"
    }
   ],
   "source": [
    "#r \"nuget: XPlot.Plotly\""
   ]
  },
  {
   "cell_type": "markdown",
   "metadata": {
    "dotnet_interactive": {
     "language": "csharp"
    },
    "vscode": {
     "languageId": "dotnet-interactive.csharp"
    }
   },
   "source": [
    "Rendering Candles in th browser"
   ]
  },
  {
   "cell_type": "code",
   "execution_count": null,
   "metadata": {
    "dotnet_interactive": {
     "language": "csharp"
    },
    "vscode": {
     "languageId": "dotnet-interactive.csharp"
    }
   },
   "outputs": [
    {
     "ename": "Error",
     "evalue": "(6,13): error CS1061: 'IEnumerable' does not contain a definition for 'ToList' and no accessible extension method 'ToList' accepting a first argument of type 'IEnumerable' could be found (are you missing a using directive or an assembly reference?)",
     "output_type": "error",
     "traceback": [
      "(6,13): error CS1061: 'IEnumerable' does not contain a definition for 'ToList' and no accessible extension method 'ToList' accepting a first argument of type 'IEnumerable' could be found (are you missing a using directive or an assembly reference?)"
     ]
    }
   ],
   "source": [
    "using XPlot.Plotly;\n",
    "using System.Linq;\n",
    "using Microsoft.AspNetCore.Html;\n",
    "\n",
    "var chart = Chart.Candlestick(\n",
    "    candles.ToList().Select(row => new Tuple<string, decimal, decimal, decimal, decimal>(\n",
    "        row.OpenTime.ToString(),\n",
    "        row.OpenPrice,\n",
    "        row.HighPrice,\n",
    "        row.LowPrice,\n",
    "        row.ClosePrice\n",
    "    ))\n",
    ");\n",
    "\n",
    "chart.WithLayout(new Layout.Layout{\n",
    "    title=\"BTC/USDT 5min\",\n",
    "    xaxis = new Xaxis { title = \"Date\" },\n",
    "    yaxis = new Yaxis { title = \"Price (BTC)\" }\n",
    "});\n",
    "\n",
    "chart.Show();"
   ]
  }
 ],
 "metadata": {
  "kernelspec": {
   "display_name": ".NET (C#)",
   "language": "C#",
   "name": ".net-csharp"
  },
  "language_info": {
   "file_extension": ".cs",
   "mimetype": "text/x-csharp",
   "name": "C#",
   "pygments_lexer": "csharp",
   "version": "9.0"
  },
  "orig_nbformat": 4,
  "vscode": {
   "interpreter": {
    "hash": "cbbecc68d4cbdd489d84b4504795ffe8228a51233a212f3ef84b8d568d85c8fc"
   }
  }
 },
 "nbformat": 4,
 "nbformat_minor": 2
}
